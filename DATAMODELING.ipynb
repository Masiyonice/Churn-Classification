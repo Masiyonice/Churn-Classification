{
  "nbformat": 4,
  "nbformat_minor": 0,
  "metadata": {
    "colab": {
      "name": "DATAMODELING.ipynb",
      "provenance": [],
      "collapsed_sections": [
        "9Ur5vg5iFgH7",
        "ht0LRc_AE4Nu",
        "FwWuj_A9Fp47",
        "musuKLFKGX0E"
      ],
      "toc_visible": true
    },
    "kernelspec": {
      "display_name": "Python 3",
      "name": "python3"
    },
    "language_info": {
      "name": "python"
    }
  },
  "cells": [
    {
      "cell_type": "markdown",
      "metadata": {
        "id": "9Ur5vg5iFgH7"
      },
      "source": [
        "# DATA CHECKING"
      ]
    },
    {
      "cell_type": "code",
      "metadata": {
        "id": "nMOFENzUaz0t"
      },
      "source": [
        "#Import library pandas numpy plotlib seaborn\n",
        "import pandas as pd\n",
        "import numpy as np\n",
        "import matplotlib.pyplot as plt\n",
        "import seaborn as sns"
      ],
      "execution_count": 1,
      "outputs": []
    },
    {
      "cell_type": "code",
      "metadata": {
        "colab": {
          "base_uri": "https://localhost:8080/",
          "height": 0
        },
        "id": "w0qKfLV3cx-u",
        "outputId": "6dd23275-1d55-475f-f819-ce5cfc90d033"
      },
      "source": [
        "#Create a DataFrame\n",
        "churn = pd.read_csv(\"https://raw.githubusercontent.com/maulanadiooo/digitalskola/1a44d05574e57a16221777b799854d54b517a49f/Churn_Modelling.csv\")\n",
        "churn.head()"
      ],
      "execution_count": 2,
      "outputs": [
        {
          "output_type": "execute_result",
          "data": {
            "text/html": [
              "<div>\n",
              "<style scoped>\n",
              "    .dataframe tbody tr th:only-of-type {\n",
              "        vertical-align: middle;\n",
              "    }\n",
              "\n",
              "    .dataframe tbody tr th {\n",
              "        vertical-align: top;\n",
              "    }\n",
              "\n",
              "    .dataframe thead th {\n",
              "        text-align: right;\n",
              "    }\n",
              "</style>\n",
              "<table border=\"1\" class=\"dataframe\">\n",
              "  <thead>\n",
              "    <tr style=\"text-align: right;\">\n",
              "      <th></th>\n",
              "      <th>RowNumber</th>\n",
              "      <th>CustomerId</th>\n",
              "      <th>Surname</th>\n",
              "      <th>CreditScore</th>\n",
              "      <th>Geography</th>\n",
              "      <th>Gender</th>\n",
              "      <th>Age</th>\n",
              "      <th>Tenure</th>\n",
              "      <th>Balance</th>\n",
              "      <th>NumOfProducts</th>\n",
              "      <th>HasCrCard</th>\n",
              "      <th>IsActiveMember</th>\n",
              "      <th>EstimatedSalary</th>\n",
              "      <th>Exited</th>\n",
              "    </tr>\n",
              "  </thead>\n",
              "  <tbody>\n",
              "    <tr>\n",
              "      <th>0</th>\n",
              "      <td>1</td>\n",
              "      <td>15634602</td>\n",
              "      <td>Hargrave</td>\n",
              "      <td>619</td>\n",
              "      <td>France</td>\n",
              "      <td>Female</td>\n",
              "      <td>42</td>\n",
              "      <td>2</td>\n",
              "      <td>0.00</td>\n",
              "      <td>1</td>\n",
              "      <td>1</td>\n",
              "      <td>1</td>\n",
              "      <td>101348.88</td>\n",
              "      <td>1</td>\n",
              "    </tr>\n",
              "    <tr>\n",
              "      <th>1</th>\n",
              "      <td>2</td>\n",
              "      <td>15647311</td>\n",
              "      <td>Hill</td>\n",
              "      <td>608</td>\n",
              "      <td>Spain</td>\n",
              "      <td>Female</td>\n",
              "      <td>41</td>\n",
              "      <td>1</td>\n",
              "      <td>83807.86</td>\n",
              "      <td>1</td>\n",
              "      <td>0</td>\n",
              "      <td>1</td>\n",
              "      <td>112542.58</td>\n",
              "      <td>0</td>\n",
              "    </tr>\n",
              "    <tr>\n",
              "      <th>2</th>\n",
              "      <td>3</td>\n",
              "      <td>15619304</td>\n",
              "      <td>Onio</td>\n",
              "      <td>502</td>\n",
              "      <td>France</td>\n",
              "      <td>Female</td>\n",
              "      <td>42</td>\n",
              "      <td>8</td>\n",
              "      <td>159660.80</td>\n",
              "      <td>3</td>\n",
              "      <td>1</td>\n",
              "      <td>0</td>\n",
              "      <td>113931.57</td>\n",
              "      <td>1</td>\n",
              "    </tr>\n",
              "    <tr>\n",
              "      <th>3</th>\n",
              "      <td>4</td>\n",
              "      <td>15701354</td>\n",
              "      <td>Boni</td>\n",
              "      <td>699</td>\n",
              "      <td>France</td>\n",
              "      <td>Female</td>\n",
              "      <td>39</td>\n",
              "      <td>1</td>\n",
              "      <td>0.00</td>\n",
              "      <td>2</td>\n",
              "      <td>0</td>\n",
              "      <td>0</td>\n",
              "      <td>93826.63</td>\n",
              "      <td>0</td>\n",
              "    </tr>\n",
              "    <tr>\n",
              "      <th>4</th>\n",
              "      <td>5</td>\n",
              "      <td>15737888</td>\n",
              "      <td>Mitchell</td>\n",
              "      <td>850</td>\n",
              "      <td>Spain</td>\n",
              "      <td>Female</td>\n",
              "      <td>43</td>\n",
              "      <td>2</td>\n",
              "      <td>125510.82</td>\n",
              "      <td>1</td>\n",
              "      <td>1</td>\n",
              "      <td>1</td>\n",
              "      <td>79084.10</td>\n",
              "      <td>0</td>\n",
              "    </tr>\n",
              "  </tbody>\n",
              "</table>\n",
              "</div>"
            ],
            "text/plain": [
              "   RowNumber  CustomerId   Surname  ...  IsActiveMember EstimatedSalary Exited\n",
              "0          1    15634602  Hargrave  ...               1       101348.88      1\n",
              "1          2    15647311      Hill  ...               1       112542.58      0\n",
              "2          3    15619304      Onio  ...               0       113931.57      1\n",
              "3          4    15701354      Boni  ...               0        93826.63      0\n",
              "4          5    15737888  Mitchell  ...               1        79084.10      0\n",
              "\n",
              "[5 rows x 14 columns]"
            ]
          },
          "metadata": {},
          "execution_count": 2
        }
      ]
    },
    {
      "cell_type": "code",
      "metadata": {
        "colab": {
          "base_uri": "https://localhost:8080/"
        },
        "id": "fGsBSOeEesYK",
        "outputId": "4ddeb352-ede2-48a2-af6b-bb1f0364215e"
      },
      "source": [
        "#Check Type every feature\n",
        "churn.dtypes"
      ],
      "execution_count": 3,
      "outputs": [
        {
          "output_type": "execute_result",
          "data": {
            "text/plain": [
              "RowNumber            int64\n",
              "CustomerId           int64\n",
              "Surname             object\n",
              "CreditScore          int64\n",
              "Geography           object\n",
              "Gender              object\n",
              "Age                  int64\n",
              "Tenure               int64\n",
              "Balance            float64\n",
              "NumOfProducts        int64\n",
              "HasCrCard            int64\n",
              "IsActiveMember       int64\n",
              "EstimatedSalary    float64\n",
              "Exited               int64\n",
              "dtype: object"
            ]
          },
          "metadata": {},
          "execution_count": 3
        }
      ]
    },
    {
      "cell_type": "code",
      "metadata": {
        "colab": {
          "base_uri": "https://localhost:8080/"
        },
        "id": "0kRmzNjefEmq",
        "outputId": "cc110fa5-1fbc-48fd-e5aa-34e9b92dbbb7"
      },
      "source": [
        "#Check size dataframe\n",
        "churn.shape"
      ],
      "execution_count": 4,
      "outputs": [
        {
          "output_type": "execute_result",
          "data": {
            "text/plain": [
              "(10000, 14)"
            ]
          },
          "metadata": {},
          "execution_count": 4
        }
      ]
    },
    {
      "cell_type": "code",
      "metadata": {
        "colab": {
          "base_uri": "https://localhost:8080/"
        },
        "id": "_ITA05ymgCq7",
        "outputId": "9803075d-53b7-4798-8546-6c4b34da9541"
      },
      "source": [
        "#Check missing value\n",
        "churn.isna().sum()"
      ],
      "execution_count": 5,
      "outputs": [
        {
          "output_type": "execute_result",
          "data": {
            "text/plain": [
              "RowNumber          0\n",
              "CustomerId         0\n",
              "Surname            0\n",
              "CreditScore        0\n",
              "Geography          0\n",
              "Gender             0\n",
              "Age                0\n",
              "Tenure             0\n",
              "Balance            0\n",
              "NumOfProducts      0\n",
              "HasCrCard          0\n",
              "IsActiveMember     0\n",
              "EstimatedSalary    0\n",
              "Exited             0\n",
              "dtype: int64"
            ]
          },
          "metadata": {},
          "execution_count": 5
        }
      ]
    },
    {
      "cell_type": "code",
      "metadata": {
        "colab": {
          "base_uri": "https://localhost:8080/",
          "height": 0
        },
        "id": "Zo1p-a7wqj4V",
        "outputId": "4a01594a-2326-4b6f-a20e-e876026debf0"
      },
      "source": [
        "#Describe data\n",
        "churn.describe()"
      ],
      "execution_count": 6,
      "outputs": [
        {
          "output_type": "execute_result",
          "data": {
            "text/html": [
              "<div>\n",
              "<style scoped>\n",
              "    .dataframe tbody tr th:only-of-type {\n",
              "        vertical-align: middle;\n",
              "    }\n",
              "\n",
              "    .dataframe tbody tr th {\n",
              "        vertical-align: top;\n",
              "    }\n",
              "\n",
              "    .dataframe thead th {\n",
              "        text-align: right;\n",
              "    }\n",
              "</style>\n",
              "<table border=\"1\" class=\"dataframe\">\n",
              "  <thead>\n",
              "    <tr style=\"text-align: right;\">\n",
              "      <th></th>\n",
              "      <th>RowNumber</th>\n",
              "      <th>CustomerId</th>\n",
              "      <th>CreditScore</th>\n",
              "      <th>Age</th>\n",
              "      <th>Tenure</th>\n",
              "      <th>Balance</th>\n",
              "      <th>NumOfProducts</th>\n",
              "      <th>HasCrCard</th>\n",
              "      <th>IsActiveMember</th>\n",
              "      <th>EstimatedSalary</th>\n",
              "      <th>Exited</th>\n",
              "    </tr>\n",
              "  </thead>\n",
              "  <tbody>\n",
              "    <tr>\n",
              "      <th>count</th>\n",
              "      <td>10000.00000</td>\n",
              "      <td>1.000000e+04</td>\n",
              "      <td>10000.000000</td>\n",
              "      <td>10000.000000</td>\n",
              "      <td>10000.000000</td>\n",
              "      <td>10000.000000</td>\n",
              "      <td>10000.000000</td>\n",
              "      <td>10000.00000</td>\n",
              "      <td>10000.000000</td>\n",
              "      <td>10000.000000</td>\n",
              "      <td>10000.000000</td>\n",
              "    </tr>\n",
              "    <tr>\n",
              "      <th>mean</th>\n",
              "      <td>5000.50000</td>\n",
              "      <td>1.569094e+07</td>\n",
              "      <td>650.528800</td>\n",
              "      <td>38.921800</td>\n",
              "      <td>5.012800</td>\n",
              "      <td>76485.889288</td>\n",
              "      <td>1.530200</td>\n",
              "      <td>0.70550</td>\n",
              "      <td>0.515100</td>\n",
              "      <td>100090.239881</td>\n",
              "      <td>0.203700</td>\n",
              "    </tr>\n",
              "    <tr>\n",
              "      <th>std</th>\n",
              "      <td>2886.89568</td>\n",
              "      <td>7.193619e+04</td>\n",
              "      <td>96.653299</td>\n",
              "      <td>10.487806</td>\n",
              "      <td>2.892174</td>\n",
              "      <td>62397.405202</td>\n",
              "      <td>0.581654</td>\n",
              "      <td>0.45584</td>\n",
              "      <td>0.499797</td>\n",
              "      <td>57510.492818</td>\n",
              "      <td>0.402769</td>\n",
              "    </tr>\n",
              "    <tr>\n",
              "      <th>min</th>\n",
              "      <td>1.00000</td>\n",
              "      <td>1.556570e+07</td>\n",
              "      <td>350.000000</td>\n",
              "      <td>18.000000</td>\n",
              "      <td>0.000000</td>\n",
              "      <td>0.000000</td>\n",
              "      <td>1.000000</td>\n",
              "      <td>0.00000</td>\n",
              "      <td>0.000000</td>\n",
              "      <td>11.580000</td>\n",
              "      <td>0.000000</td>\n",
              "    </tr>\n",
              "    <tr>\n",
              "      <th>25%</th>\n",
              "      <td>2500.75000</td>\n",
              "      <td>1.562853e+07</td>\n",
              "      <td>584.000000</td>\n",
              "      <td>32.000000</td>\n",
              "      <td>3.000000</td>\n",
              "      <td>0.000000</td>\n",
              "      <td>1.000000</td>\n",
              "      <td>0.00000</td>\n",
              "      <td>0.000000</td>\n",
              "      <td>51002.110000</td>\n",
              "      <td>0.000000</td>\n",
              "    </tr>\n",
              "    <tr>\n",
              "      <th>50%</th>\n",
              "      <td>5000.50000</td>\n",
              "      <td>1.569074e+07</td>\n",
              "      <td>652.000000</td>\n",
              "      <td>37.000000</td>\n",
              "      <td>5.000000</td>\n",
              "      <td>97198.540000</td>\n",
              "      <td>1.000000</td>\n",
              "      <td>1.00000</td>\n",
              "      <td>1.000000</td>\n",
              "      <td>100193.915000</td>\n",
              "      <td>0.000000</td>\n",
              "    </tr>\n",
              "    <tr>\n",
              "      <th>75%</th>\n",
              "      <td>7500.25000</td>\n",
              "      <td>1.575323e+07</td>\n",
              "      <td>718.000000</td>\n",
              "      <td>44.000000</td>\n",
              "      <td>7.000000</td>\n",
              "      <td>127644.240000</td>\n",
              "      <td>2.000000</td>\n",
              "      <td>1.00000</td>\n",
              "      <td>1.000000</td>\n",
              "      <td>149388.247500</td>\n",
              "      <td>0.000000</td>\n",
              "    </tr>\n",
              "    <tr>\n",
              "      <th>max</th>\n",
              "      <td>10000.00000</td>\n",
              "      <td>1.581569e+07</td>\n",
              "      <td>850.000000</td>\n",
              "      <td>92.000000</td>\n",
              "      <td>10.000000</td>\n",
              "      <td>250898.090000</td>\n",
              "      <td>4.000000</td>\n",
              "      <td>1.00000</td>\n",
              "      <td>1.000000</td>\n",
              "      <td>199992.480000</td>\n",
              "      <td>1.000000</td>\n",
              "    </tr>\n",
              "  </tbody>\n",
              "</table>\n",
              "</div>"
            ],
            "text/plain": [
              "         RowNumber    CustomerId  ...  EstimatedSalary        Exited\n",
              "count  10000.00000  1.000000e+04  ...     10000.000000  10000.000000\n",
              "mean    5000.50000  1.569094e+07  ...    100090.239881      0.203700\n",
              "std     2886.89568  7.193619e+04  ...     57510.492818      0.402769\n",
              "min        1.00000  1.556570e+07  ...        11.580000      0.000000\n",
              "25%     2500.75000  1.562853e+07  ...     51002.110000      0.000000\n",
              "50%     5000.50000  1.569074e+07  ...    100193.915000      0.000000\n",
              "75%     7500.25000  1.575323e+07  ...    149388.247500      0.000000\n",
              "max    10000.00000  1.581569e+07  ...    199992.480000      1.000000\n",
              "\n",
              "[8 rows x 11 columns]"
            ]
          },
          "metadata": {},
          "execution_count": 6
        }
      ]
    },
    {
      "cell_type": "code",
      "metadata": {
        "colab": {
          "base_uri": "https://localhost:8080/",
          "height": 0
        },
        "id": "WSRcnGhvha0f",
        "outputId": "3e5af4ab-69a1-487e-d19f-bb7f41d3052a"
      },
      "source": [
        "#Delete Duplicate\n",
        "churn.drop_duplicates(inplace= True)\n",
        "churn.head()"
      ],
      "execution_count": 7,
      "outputs": [
        {
          "output_type": "execute_result",
          "data": {
            "text/html": [
              "<div>\n",
              "<style scoped>\n",
              "    .dataframe tbody tr th:only-of-type {\n",
              "        vertical-align: middle;\n",
              "    }\n",
              "\n",
              "    .dataframe tbody tr th {\n",
              "        vertical-align: top;\n",
              "    }\n",
              "\n",
              "    .dataframe thead th {\n",
              "        text-align: right;\n",
              "    }\n",
              "</style>\n",
              "<table border=\"1\" class=\"dataframe\">\n",
              "  <thead>\n",
              "    <tr style=\"text-align: right;\">\n",
              "      <th></th>\n",
              "      <th>RowNumber</th>\n",
              "      <th>CustomerId</th>\n",
              "      <th>Surname</th>\n",
              "      <th>CreditScore</th>\n",
              "      <th>Geography</th>\n",
              "      <th>Gender</th>\n",
              "      <th>Age</th>\n",
              "      <th>Tenure</th>\n",
              "      <th>Balance</th>\n",
              "      <th>NumOfProducts</th>\n",
              "      <th>HasCrCard</th>\n",
              "      <th>IsActiveMember</th>\n",
              "      <th>EstimatedSalary</th>\n",
              "      <th>Exited</th>\n",
              "    </tr>\n",
              "  </thead>\n",
              "  <tbody>\n",
              "    <tr>\n",
              "      <th>0</th>\n",
              "      <td>1</td>\n",
              "      <td>15634602</td>\n",
              "      <td>Hargrave</td>\n",
              "      <td>619</td>\n",
              "      <td>France</td>\n",
              "      <td>Female</td>\n",
              "      <td>42</td>\n",
              "      <td>2</td>\n",
              "      <td>0.00</td>\n",
              "      <td>1</td>\n",
              "      <td>1</td>\n",
              "      <td>1</td>\n",
              "      <td>101348.88</td>\n",
              "      <td>1</td>\n",
              "    </tr>\n",
              "    <tr>\n",
              "      <th>1</th>\n",
              "      <td>2</td>\n",
              "      <td>15647311</td>\n",
              "      <td>Hill</td>\n",
              "      <td>608</td>\n",
              "      <td>Spain</td>\n",
              "      <td>Female</td>\n",
              "      <td>41</td>\n",
              "      <td>1</td>\n",
              "      <td>83807.86</td>\n",
              "      <td>1</td>\n",
              "      <td>0</td>\n",
              "      <td>1</td>\n",
              "      <td>112542.58</td>\n",
              "      <td>0</td>\n",
              "    </tr>\n",
              "    <tr>\n",
              "      <th>2</th>\n",
              "      <td>3</td>\n",
              "      <td>15619304</td>\n",
              "      <td>Onio</td>\n",
              "      <td>502</td>\n",
              "      <td>France</td>\n",
              "      <td>Female</td>\n",
              "      <td>42</td>\n",
              "      <td>8</td>\n",
              "      <td>159660.80</td>\n",
              "      <td>3</td>\n",
              "      <td>1</td>\n",
              "      <td>0</td>\n",
              "      <td>113931.57</td>\n",
              "      <td>1</td>\n",
              "    </tr>\n",
              "    <tr>\n",
              "      <th>3</th>\n",
              "      <td>4</td>\n",
              "      <td>15701354</td>\n",
              "      <td>Boni</td>\n",
              "      <td>699</td>\n",
              "      <td>France</td>\n",
              "      <td>Female</td>\n",
              "      <td>39</td>\n",
              "      <td>1</td>\n",
              "      <td>0.00</td>\n",
              "      <td>2</td>\n",
              "      <td>0</td>\n",
              "      <td>0</td>\n",
              "      <td>93826.63</td>\n",
              "      <td>0</td>\n",
              "    </tr>\n",
              "    <tr>\n",
              "      <th>4</th>\n",
              "      <td>5</td>\n",
              "      <td>15737888</td>\n",
              "      <td>Mitchell</td>\n",
              "      <td>850</td>\n",
              "      <td>Spain</td>\n",
              "      <td>Female</td>\n",
              "      <td>43</td>\n",
              "      <td>2</td>\n",
              "      <td>125510.82</td>\n",
              "      <td>1</td>\n",
              "      <td>1</td>\n",
              "      <td>1</td>\n",
              "      <td>79084.10</td>\n",
              "      <td>0</td>\n",
              "    </tr>\n",
              "  </tbody>\n",
              "</table>\n",
              "</div>"
            ],
            "text/plain": [
              "   RowNumber  CustomerId   Surname  ...  IsActiveMember EstimatedSalary Exited\n",
              "0          1    15634602  Hargrave  ...               1       101348.88      1\n",
              "1          2    15647311      Hill  ...               1       112542.58      0\n",
              "2          3    15619304      Onio  ...               0       113931.57      1\n",
              "3          4    15701354      Boni  ...               0        93826.63      0\n",
              "4          5    15737888  Mitchell  ...               1        79084.10      0\n",
              "\n",
              "[5 rows x 14 columns]"
            ]
          },
          "metadata": {},
          "execution_count": 7
        }
      ]
    },
    {
      "cell_type": "markdown",
      "metadata": {
        "id": "ht0LRc_AE4Nu"
      },
      "source": [
        "# DATA VISUALIZATION"
      ]
    },
    {
      "cell_type": "code",
      "metadata": {
        "colab": {
          "base_uri": "https://localhost:8080/",
          "height": 0
        },
        "id": "cq1YZ5TPgSLB",
        "outputId": "4ae80ead-0152-4763-ccc0-7a875f87ef9d"
      },
      "source": [
        "#Creating pivot\n",
        "df_pivot = pd.pivot_table(data=churn, values= ['Balance'], index= ['Exited', 'Gender'], columns= ['Geography'], aggfunc=np.average)\n",
        "df_pivot"
      ],
      "execution_count": 8,
      "outputs": [
        {
          "output_type": "execute_result",
          "data": {
            "text/html": [
              "<div>\n",
              "<style scoped>\n",
              "    .dataframe tbody tr th:only-of-type {\n",
              "        vertical-align: middle;\n",
              "    }\n",
              "\n",
              "    .dataframe tbody tr th {\n",
              "        vertical-align: top;\n",
              "    }\n",
              "\n",
              "    .dataframe thead tr th {\n",
              "        text-align: left;\n",
              "    }\n",
              "\n",
              "    .dataframe thead tr:last-of-type th {\n",
              "        text-align: right;\n",
              "    }\n",
              "</style>\n",
              "<table border=\"1\" class=\"dataframe\">\n",
              "  <thead>\n",
              "    <tr>\n",
              "      <th></th>\n",
              "      <th></th>\n",
              "      <th colspan=\"3\" halign=\"left\">Balance</th>\n",
              "    </tr>\n",
              "    <tr>\n",
              "      <th></th>\n",
              "      <th>Geography</th>\n",
              "      <th>France</th>\n",
              "      <th>Germany</th>\n",
              "      <th>Spain</th>\n",
              "    </tr>\n",
              "    <tr>\n",
              "      <th>Exited</th>\n",
              "      <th>Gender</th>\n",
              "      <th></th>\n",
              "      <th></th>\n",
              "      <th></th>\n",
              "    </tr>\n",
              "  </thead>\n",
              "  <tbody>\n",
              "    <tr>\n",
              "      <th rowspan=\"2\" valign=\"top\">0</th>\n",
              "      <th>Female</th>\n",
              "      <td>58424.310061</td>\n",
              "      <td>118828.514362</td>\n",
              "      <td>56594.820688</td>\n",
              "    </tr>\n",
              "    <tr>\n",
              "      <th>Male</th>\n",
              "      <td>61774.503758</td>\n",
              "      <td>119896.529105</td>\n",
              "      <td>61871.626285</td>\n",
              "    </tr>\n",
              "    <tr>\n",
              "      <th rowspan=\"2\" valign=\"top\">1</th>\n",
              "      <th>Female</th>\n",
              "      <td>67755.162630</td>\n",
              "      <td>119673.872321</td>\n",
              "      <td>71997.673680</td>\n",
              "    </tr>\n",
              "    <tr>\n",
              "      <th>Male</th>\n",
              "      <td>75710.827800</td>\n",
              "      <td>121202.242432</td>\n",
              "      <td>73167.867802</td>\n",
              "    </tr>\n",
              "  </tbody>\n",
              "</table>\n",
              "</div>"
            ],
            "text/plain": [
              "                    Balance                             \n",
              "Geography            France        Germany         Spain\n",
              "Exited Gender                                           \n",
              "0      Female  58424.310061  118828.514362  56594.820688\n",
              "       Male    61774.503758  119896.529105  61871.626285\n",
              "1      Female  67755.162630  119673.872321  71997.673680\n",
              "       Male    75710.827800  121202.242432  73167.867802"
            ]
          },
          "metadata": {},
          "execution_count": 8
        }
      ]
    },
    {
      "cell_type": "code",
      "metadata": {
        "colab": {
          "base_uri": "https://localhost:8080/",
          "height": 0
        },
        "id": "PMGAZzUOMfQE",
        "outputId": "7a272c1c-7929-4fd5-8df1-e4262b403018"
      },
      "source": [
        "#Data Prepocessing\n",
        "df_1 = churn.drop(['CustomerId','Surname','RowNumber'], axis= 1)\n",
        "df_1.dtypes\n",
        "df_1.head(3)"
      ],
      "execution_count": 9,
      "outputs": [
        {
          "output_type": "execute_result",
          "data": {
            "text/html": [
              "<div>\n",
              "<style scoped>\n",
              "    .dataframe tbody tr th:only-of-type {\n",
              "        vertical-align: middle;\n",
              "    }\n",
              "\n",
              "    .dataframe tbody tr th {\n",
              "        vertical-align: top;\n",
              "    }\n",
              "\n",
              "    .dataframe thead th {\n",
              "        text-align: right;\n",
              "    }\n",
              "</style>\n",
              "<table border=\"1\" class=\"dataframe\">\n",
              "  <thead>\n",
              "    <tr style=\"text-align: right;\">\n",
              "      <th></th>\n",
              "      <th>CreditScore</th>\n",
              "      <th>Geography</th>\n",
              "      <th>Gender</th>\n",
              "      <th>Age</th>\n",
              "      <th>Tenure</th>\n",
              "      <th>Balance</th>\n",
              "      <th>NumOfProducts</th>\n",
              "      <th>HasCrCard</th>\n",
              "      <th>IsActiveMember</th>\n",
              "      <th>EstimatedSalary</th>\n",
              "      <th>Exited</th>\n",
              "    </tr>\n",
              "  </thead>\n",
              "  <tbody>\n",
              "    <tr>\n",
              "      <th>0</th>\n",
              "      <td>619</td>\n",
              "      <td>France</td>\n",
              "      <td>Female</td>\n",
              "      <td>42</td>\n",
              "      <td>2</td>\n",
              "      <td>0.00</td>\n",
              "      <td>1</td>\n",
              "      <td>1</td>\n",
              "      <td>1</td>\n",
              "      <td>101348.88</td>\n",
              "      <td>1</td>\n",
              "    </tr>\n",
              "    <tr>\n",
              "      <th>1</th>\n",
              "      <td>608</td>\n",
              "      <td>Spain</td>\n",
              "      <td>Female</td>\n",
              "      <td>41</td>\n",
              "      <td>1</td>\n",
              "      <td>83807.86</td>\n",
              "      <td>1</td>\n",
              "      <td>0</td>\n",
              "      <td>1</td>\n",
              "      <td>112542.58</td>\n",
              "      <td>0</td>\n",
              "    </tr>\n",
              "    <tr>\n",
              "      <th>2</th>\n",
              "      <td>502</td>\n",
              "      <td>France</td>\n",
              "      <td>Female</td>\n",
              "      <td>42</td>\n",
              "      <td>8</td>\n",
              "      <td>159660.80</td>\n",
              "      <td>3</td>\n",
              "      <td>1</td>\n",
              "      <td>0</td>\n",
              "      <td>113931.57</td>\n",
              "      <td>1</td>\n",
              "    </tr>\n",
              "  </tbody>\n",
              "</table>\n",
              "</div>"
            ],
            "text/plain": [
              "   CreditScore Geography  Gender  ...  IsActiveMember  EstimatedSalary  Exited\n",
              "0          619    France  Female  ...               1        101348.88       1\n",
              "1          608     Spain  Female  ...               1        112542.58       0\n",
              "2          502    France  Female  ...               0        113931.57       1\n",
              "\n",
              "[3 rows x 11 columns]"
            ]
          },
          "metadata": {},
          "execution_count": 9
        }
      ]
    },
    {
      "cell_type": "code",
      "metadata": {
        "colab": {
          "base_uri": "https://localhost:8080/",
          "height": 0
        },
        "id": "JnctZwdCfOFh",
        "outputId": "0b116633-5b46-40ab-c956-576572d333fa"
      },
      "source": [
        "#Data Visualization\n",
        "sns.kdeplot(data=df_1, x='Age', hue='Exited')"
      ],
      "execution_count": 10,
      "outputs": [
        {
          "output_type": "execute_result",
          "data": {
            "text/plain": [
              "<matplotlib.axes._subplots.AxesSubplot at 0x7fb4f8699350>"
            ]
          },
          "metadata": {},
          "execution_count": 10
        },
        {
          "output_type": "display_data",
          "data": {
            "image/png": "[encoded data removed]",
            "text/plain": [
              "<Figure size 432x288 with 1 Axes>"
            ]
          },
          "metadata": {
            "needs_background": "light"
          }
        }
      ]
    },
    {
      "cell_type": "code",
      "metadata": {
        "colab": {
          "base_uri": "https://localhost:8080/",
          "height": 0
        },
        "id": "6b9PpUdOq9Wk",
        "outputId": "6113383e-2fed-43df-f8a8-9a01e93e9e41"
      },
      "source": [
        "#Data Visualization\n",
        "sns.kdeplot(data=df_1, x='CreditScore', hue='Exited')"
      ],
      "execution_count": 11,
      "outputs": [
        {
          "output_type": "execute_result",
          "data": {
            "text/plain": [
              "<matplotlib.axes._subplots.AxesSubplot at 0x7fb4f4e819d0>"
            ]
          },
          "metadata": {},
          "execution_count": 11
        },
        {
          "output_type": "display_data",
          "data": {
            "image/png": "[encoded data removed]",
            "text/plain": [
              "<Figure size 432x288 with 1 Axes>"
            ]
          },
          "metadata": {
            "needs_background": "light"
          }
        }
      ]
    },
    {
      "cell_type": "code",
      "metadata": {
        "colab": {
          "base_uri": "https://localhost:8080/",
          "height": 0
        },
        "id": "4PqU8UmqA2ZP",
        "outputId": "91f1de24-eaf3-4b16-953d-c2c21202142d"
      },
      "source": [
        "#Data Visualization\n",
        "sns.relplot(data= df_1, x= 'Age', y='Balance', col= 'Geography', style= 'Exited', hue= 'Exited')"
      ],
      "execution_count": 12,
      "outputs": [
        {
          "output_type": "execute_result",
          "data": {
            "text/plain": [
              "<seaborn.axisgrid.FacetGrid at 0x7fb4f495b790>"
            ]
          },
          "metadata": {},
          "execution_count": 12
        },
        {
          "output_type": "display_data",
          "data": {
            "image/png": "[encoded data removed]",
            "text/plain": [
              "<Figure size 1122.38x360 with 3 Axes>"
            ]
          },
          "metadata": {
            "needs_background": "light"
          }
        }
      ]
    },
    {
      "cell_type": "code",
      "metadata": {
        "colab": {
          "base_uri": "https://localhost:8080/",
          "height": 0
        },
        "id": "mZRzkVcctNQV",
        "outputId": "178da75f-e5b3-4a0b-86c8-62fba6e97243"
      },
      "source": [
        "#Data Visualization\n",
        "sns.catplot(data=df_1,x='Gender',hue='Gender',col= 'Exited',kind='count', height= 4, aspect= .9)"
      ],
      "execution_count": 13,
      "outputs": [
        {
          "output_type": "execute_result",
          "data": {
            "text/plain": [
              "<seaborn.axisgrid.FacetGrid at 0x7fb4f6f0ef10>"
            ]
          },
          "metadata": {},
          "execution_count": 13
        },
        {
          "output_type": "display_data",
          "data": {
            "image/png": "[encoded data removed]",
            "text/plain": [
              "<Figure size 518.4x288 with 2 Axes>"
            ]
          },
          "metadata": {
            "needs_background": "light"
          }
        }
      ]
    },
    {
      "cell_type": "code",
      "metadata": {
        "colab": {
          "base_uri": "https://localhost:8080/",
          "height": 0
        },
        "id": "GWqfi4z4nLZo",
        "outputId": "373b8a91-caac-431d-c2e7-6f38881e32ca"
      },
      "source": [
        "#Data Visualization\n",
        "sns.catplot(data=df_1,x='Geography',hue='Gender',col= 'Exited',kind='count', height= 4, aspect= .9)"
      ],
      "execution_count": 14,
      "outputs": [
        {
          "output_type": "execute_result",
          "data": {
            "text/plain": [
              "<seaborn.axisgrid.FacetGrid at 0x7fb4ebfebb50>"
            ]
          },
          "metadata": {},
          "execution_count": 14
        },
        {
          "output_type": "display_data",
          "data": {
            "image/png": "[encoded data removed]",
            "text/plain": [
              "<Figure size 590.525x288 with 2 Axes>"
            ]
          },
          "metadata": {
            "needs_background": "light"
          }
        }
      ]
    },
    {
      "cell_type": "code",
      "metadata": {
        "id": "skWUIM0eaMcF"
      },
      "source": [
        "#View Correlation\n",
        "a = churn.corr()"
      ],
      "execution_count": 15,
      "outputs": []
    },
    {
      "cell_type": "code",
      "metadata": {
        "colab": {
          "base_uri": "https://localhost:8080/",
          "height": 0
        },
        "id": "2NxvHhFwrDsL",
        "outputId": "4033a730-c063-4954-e8a8-32b25249c862"
      },
      "source": [
        "plt.figure(figsize=(16,10))\n",
        "sns.heatmap(a, annot=True)"
      ],
      "execution_count": 16,
      "outputs": [
        {
          "output_type": "execute_result",
          "data": {
            "text/plain": [
              "<matplotlib.axes._subplots.AxesSubplot at 0x7fb4ea65da10>"
            ]
          },
          "metadata": {},
          "execution_count": 16
        },
        {
          "output_type": "display_data",
          "data": {
            "image/png": "[encoded data removed]",
            "text/plain": [
              "<Figure size 1152x720 with 2 Axes>"
            ]
          },
          "metadata": {
            "needs_background": "light"
          }
        }
      ]
    },
    {
      "cell_type": "markdown",
      "metadata": {
        "id": "FwWuj_A9Fp47"
      },
      "source": [
        "# DATA PREPOCESSING"
      ]
    },
    {
      "cell_type": "code",
      "metadata": {
        "id": "Doqf8r9-Nt7G"
      },
      "source": [
        "#Creat a data for descriptive data\n",
        "df_2 = df_1[[\"Geography\", 'Age']]"
      ],
      "execution_count": 17,
      "outputs": []
    },
    {
      "cell_type": "code",
      "metadata": {
        "id": "vHg8BSiLFMyo"
      },
      "source": [
        "df_2 = pd.pivot_table(data=df_2, values=\"Age\", index='Geography', aggfunc=[np.mean])"
      ],
      "execution_count": 18,
      "outputs": []
    },
    {
      "cell_type": "code",
      "metadata": {
        "colab": {
          "base_uri": "https://localhost:8080/",
          "height": 0
        },
        "id": "NL_OXzZCLRK5",
        "outputId": "de5ddd05-37a1-4f52-aa06-95dbee947a2d"
      },
      "source": [
        "df_2"
      ],
      "execution_count": 19,
      "outputs": [
        {
          "output_type": "execute_result",
          "data": {
            "text/html": [
              "<div>\n",
              "<style scoped>\n",
              "    .dataframe tbody tr th:only-of-type {\n",
              "        vertical-align: middle;\n",
              "    }\n",
              "\n",
              "    .dataframe tbody tr th {\n",
              "        vertical-align: top;\n",
              "    }\n",
              "\n",
              "    .dataframe thead tr th {\n",
              "        text-align: left;\n",
              "    }\n",
              "\n",
              "    .dataframe thead tr:last-of-type th {\n",
              "        text-align: right;\n",
              "    }\n",
              "</style>\n",
              "<table border=\"1\" class=\"dataframe\">\n",
              "  <thead>\n",
              "    <tr>\n",
              "      <th></th>\n",
              "      <th>mean</th>\n",
              "    </tr>\n",
              "    <tr>\n",
              "      <th></th>\n",
              "      <th>Age</th>\n",
              "    </tr>\n",
              "    <tr>\n",
              "      <th>Geography</th>\n",
              "      <th></th>\n",
              "    </tr>\n",
              "  </thead>\n",
              "  <tbody>\n",
              "    <tr>\n",
              "      <th>France</th>\n",
              "      <td>38.511767</td>\n",
              "    </tr>\n",
              "    <tr>\n",
              "      <th>Germany</th>\n",
              "      <td>39.771622</td>\n",
              "    </tr>\n",
              "    <tr>\n",
              "      <th>Spain</th>\n",
              "      <td>38.890997</td>\n",
              "    </tr>\n",
              "  </tbody>\n",
              "</table>\n",
              "</div>"
            ],
            "text/plain": [
              "                mean\n",
              "                 Age\n",
              "Geography           \n",
              "France     38.511767\n",
              "Germany    39.771622\n",
              "Spain      38.890997"
            ]
          },
          "metadata": {},
          "execution_count": 19
        }
      ]
    },
    {
      "cell_type": "code",
      "metadata": {
        "id": "7rKczHVIdvLV"
      },
      "source": [
        "#Creat a data for descriptive data\n",
        "df_3 = df_1[[\"Geography\", 'Balance']]"
      ],
      "execution_count": 20,
      "outputs": []
    },
    {
      "cell_type": "code",
      "metadata": {
        "id": "YAWb03AYd3SB"
      },
      "source": [
        "df_3 = pd.pivot_table(data=df_3, values=\"Balance\", index='Geography', aggfunc=[np.mean])"
      ],
      "execution_count": 21,
      "outputs": []
    },
    {
      "cell_type": "code",
      "metadata": {
        "colab": {
          "base_uri": "https://localhost:8080/",
          "height": 0
        },
        "id": "vuO1DlX5d_Pa",
        "outputId": "4e33052e-6517-47dd-f450-6e464e9b80cd"
      },
      "source": [
        "df_3"
      ],
      "execution_count": 22,
      "outputs": [
        {
          "output_type": "execute_result",
          "data": {
            "text/html": [
              "<div>\n",
              "<style scoped>\n",
              "    .dataframe tbody tr th:only-of-type {\n",
              "        vertical-align: middle;\n",
              "    }\n",
              "\n",
              "    .dataframe tbody tr th {\n",
              "        vertical-align: top;\n",
              "    }\n",
              "\n",
              "    .dataframe thead tr th {\n",
              "        text-align: left;\n",
              "    }\n",
              "\n",
              "    .dataframe thead tr:last-of-type th {\n",
              "        text-align: right;\n",
              "    }\n",
              "</style>\n",
              "<table border=\"1\" class=\"dataframe\">\n",
              "  <thead>\n",
              "    <tr>\n",
              "      <th></th>\n",
              "      <th>mean</th>\n",
              "    </tr>\n",
              "    <tr>\n",
              "      <th></th>\n",
              "      <th>Balance</th>\n",
              "    </tr>\n",
              "    <tr>\n",
              "      <th>Geography</th>\n",
              "      <th></th>\n",
              "    </tr>\n",
              "  </thead>\n",
              "  <tbody>\n",
              "    <tr>\n",
              "      <th>France</th>\n",
              "      <td>62092.636516</td>\n",
              "    </tr>\n",
              "    <tr>\n",
              "      <th>Germany</th>\n",
              "      <td>119730.116134</td>\n",
              "    </tr>\n",
              "    <tr>\n",
              "      <th>Spain</th>\n",
              "      <td>61818.147763</td>\n",
              "    </tr>\n",
              "  </tbody>\n",
              "</table>\n",
              "</div>"
            ],
            "text/plain": [
              "                    mean\n",
              "                 Balance\n",
              "Geography               \n",
              "France      62092.636516\n",
              "Germany    119730.116134\n",
              "Spain       61818.147763"
            ]
          },
          "metadata": {},
          "execution_count": 22
        }
      ]
    },
    {
      "cell_type": "code",
      "metadata": {
        "colab": {
          "base_uri": "https://localhost:8080/"
        },
        "id": "iDobxOzsDEL5",
        "outputId": "b84c732e-758e-4f6b-c7f2-6c3a651b213c"
      },
      "source": [
        "#Merge database\n",
        "df_1 = pd.merge(df_1,df_2, how='left', on='Geography')"
      ],
      "execution_count": 23,
      "outputs": [
        {
          "output_type": "stream",
          "name": "stderr",
          "text": [
            "/usr/local/lib/python3.7/dist-packages/pandas/core/reshape/merge.py:643: UserWarning: merging between different levels can give an unintended result (1 levels on the left,2 on the right)\n",
            "  warnings.warn(msg, UserWarning)\n"
          ]
        }
      ]
    },
    {
      "cell_type": "code",
      "metadata": {
        "colab": {
          "base_uri": "https://localhost:8080/"
        },
        "id": "iF8uUq9neIMp",
        "outputId": "8edf30fa-575f-4e16-f46d-ce0498ff46f1"
      },
      "source": [
        "df_1 = pd.merge(df_1,df_3, how='left', on='Geography')"
      ],
      "execution_count": 24,
      "outputs": [
        {
          "output_type": "stream",
          "name": "stderr",
          "text": [
            "/usr/local/lib/python3.7/dist-packages/pandas/core/reshape/merge.py:643: UserWarning: merging between different levels can give an unintended result (1 levels on the left,2 on the right)\n",
            "  warnings.warn(msg, UserWarning)\n"
          ]
        }
      ]
    },
    {
      "cell_type": "code",
      "metadata": {
        "id": "MlaQoWTGtQNK"
      },
      "source": [
        "df_1.drop(['Geography'], axis=1, inplace=True)"
      ],
      "execution_count": 25,
      "outputs": []
    },
    {
      "cell_type": "code",
      "metadata": {
        "id": "bVnBbeUCtYAH"
      },
      "source": [
        "#OneHotEnconding using pandas\n",
        "df_1 = pd.get_dummies(df_1, columns=['Gender'], drop_first=True)"
      ],
      "execution_count": 26,
      "outputs": []
    },
    {
      "cell_type": "code",
      "metadata": {
        "colab": {
          "base_uri": "https://localhost:8080/",
          "height": 0
        },
        "id": "6nZrnfivt4_H",
        "outputId": "c5355fe0-4792-4afa-b1ab-0943e30ad6d9"
      },
      "source": [
        "#Check database after prepocessing\n",
        "df_1.tail()"
      ],
      "execution_count": 27,
      "outputs": [
        {
          "output_type": "execute_result",
          "data": {
            "text/html": [
              "<div>\n",
              "<style scoped>\n",
              "    .dataframe tbody tr th:only-of-type {\n",
              "        vertical-align: middle;\n",
              "    }\n",
              "\n",
              "    .dataframe tbody tr th {\n",
              "        vertical-align: top;\n",
              "    }\n",
              "\n",
              "    .dataframe thead th {\n",
              "        text-align: right;\n",
              "    }\n",
              "</style>\n",
              "<table border=\"1\" class=\"dataframe\">\n",
              "  <thead>\n",
              "    <tr style=\"text-align: right;\">\n",
              "      <th></th>\n",
              "      <th>CreditScore</th>\n",
              "      <th>Age</th>\n",
              "      <th>Tenure</th>\n",
              "      <th>Balance</th>\n",
              "      <th>NumOfProducts</th>\n",
              "      <th>HasCrCard</th>\n",
              "      <th>IsActiveMember</th>\n",
              "      <th>EstimatedSalary</th>\n",
              "      <th>Exited</th>\n",
              "      <th>(mean, Age)</th>\n",
              "      <th>(mean, Balance)</th>\n",
              "      <th>Gender_Male</th>\n",
              "    </tr>\n",
              "  </thead>\n",
              "  <tbody>\n",
              "    <tr>\n",
              "      <th>9995</th>\n",
              "      <td>771</td>\n",
              "      <td>39</td>\n",
              "      <td>5</td>\n",
              "      <td>0.00</td>\n",
              "      <td>2</td>\n",
              "      <td>1</td>\n",
              "      <td>0</td>\n",
              "      <td>96270.64</td>\n",
              "      <td>0</td>\n",
              "      <td>38.511767</td>\n",
              "      <td>62092.636516</td>\n",
              "      <td>1</td>\n",
              "    </tr>\n",
              "    <tr>\n",
              "      <th>9996</th>\n",
              "      <td>516</td>\n",
              "      <td>35</td>\n",
              "      <td>10</td>\n",
              "      <td>57369.61</td>\n",
              "      <td>1</td>\n",
              "      <td>1</td>\n",
              "      <td>1</td>\n",
              "      <td>101699.77</td>\n",
              "      <td>0</td>\n",
              "      <td>38.511767</td>\n",
              "      <td>62092.636516</td>\n",
              "      <td>1</td>\n",
              "    </tr>\n",
              "    <tr>\n",
              "      <th>9997</th>\n",
              "      <td>709</td>\n",
              "      <td>36</td>\n",
              "      <td>7</td>\n",
              "      <td>0.00</td>\n",
              "      <td>1</td>\n",
              "      <td>0</td>\n",
              "      <td>1</td>\n",
              "      <td>42085.58</td>\n",
              "      <td>1</td>\n",
              "      <td>38.511767</td>\n",
              "      <td>62092.636516</td>\n",
              "      <td>0</td>\n",
              "    </tr>\n",
              "    <tr>\n",
              "      <th>9998</th>\n",
              "      <td>772</td>\n",
              "      <td>42</td>\n",
              "      <td>3</td>\n",
              "      <td>75075.31</td>\n",
              "      <td>2</td>\n",
              "      <td>1</td>\n",
              "      <td>0</td>\n",
              "      <td>92888.52</td>\n",
              "      <td>1</td>\n",
              "      <td>39.771622</td>\n",
              "      <td>119730.116134</td>\n",
              "      <td>1</td>\n",
              "    </tr>\n",
              "    <tr>\n",
              "      <th>9999</th>\n",
              "      <td>792</td>\n",
              "      <td>28</td>\n",
              "      <td>4</td>\n",
              "      <td>130142.79</td>\n",
              "      <td>1</td>\n",
              "      <td>1</td>\n",
              "      <td>0</td>\n",
              "      <td>38190.78</td>\n",
              "      <td>0</td>\n",
              "      <td>38.511767</td>\n",
              "      <td>62092.636516</td>\n",
              "      <td>0</td>\n",
              "    </tr>\n",
              "  </tbody>\n",
              "</table>\n",
              "</div>"
            ],
            "text/plain": [
              "      CreditScore  Age  Tenure  ...  (mean, Age)  (mean, Balance)  Gender_Male\n",
              "9995          771   39       5  ...    38.511767     62092.636516            1\n",
              "9996          516   35      10  ...    38.511767     62092.636516            1\n",
              "9997          709   36       7  ...    38.511767     62092.636516            0\n",
              "9998          772   42       3  ...    39.771622    119730.116134            1\n",
              "9999          792   28       4  ...    38.511767     62092.636516            0\n",
              "\n",
              "[5 rows x 12 columns]"
            ]
          },
          "metadata": {},
          "execution_count": 27
        }
      ]
    },
    {
      "cell_type": "markdown",
      "metadata": {
        "id": "1dbfGPGWZZk3"
      },
      "source": [
        "## Check Outlier"
      ]
    },
    {
      "cell_type": "code",
      "metadata": {
        "colab": {
          "base_uri": "https://localhost:8080/"
        },
        "id": "xvFv7UEiTLV7",
        "outputId": "df85786c-fdaf-4a5c-f36a-9c5875418965"
      },
      "source": [
        "# Inter-Quantile Range\n",
        "Q1 = df_1[\"CreditScore\"].quantile(q = 0.25)\n",
        "Q3 = df_1[\"CreditScore\"].quantile(q = 0.75)\n",
        "\n",
        "IQR = Q3 - Q1\n",
        "# Outlier\n",
        "upper_inner_fence = Q3 + 1.5 * IQR\n",
        "lower_inner_fence = Q1 - 1.5 * IQR\n",
        "print(\"Above upper outer fence:\")\n",
        "df_1[\"CreditScore\"][df_1[\"CreditScore\"] > upper_inner_fence]\n",
        "print(\"Below lower inner fence:\")\n",
        "df_1[\"CreditScore\"][df_1[\"CreditScore\"] < lower_inner_fence]\n"
      ],
      "execution_count": 28,
      "outputs": [
        {
          "output_type": "stream",
          "name": "stdout",
          "text": [
            "Above upper outer fence:\n",
            "Below lower inner fence:\n"
          ]
        },
        {
          "output_type": "execute_result",
          "data": {
            "text/plain": [
              "7       376\n",
              "942     376\n",
              "1193    363\n",
              "1405    359\n",
              "1631    350\n",
              "1838    350\n",
              "1962    358\n",
              "2473    351\n",
              "2579    365\n",
              "8154    367\n",
              "8723    350\n",
              "8762    350\n",
              "9210    382\n",
              "9356    373\n",
              "9624    350\n",
              "Name: CreditScore, dtype: int64"
            ]
          },
          "metadata": {},
          "execution_count": 28
        }
      ]
    },
    {
      "cell_type": "code",
      "metadata": {
        "id": "nZ57Ko_tZjMX"
      },
      "source": [
        "#Replace Oulier\n",
        "for i in df_1[\"CreditScore\"][df_1[\"CreditScore\"] < lower_inner_fence]:\n",
        "  df_1['CreditScore'].replace(i, df_1['CreditScore'].mean(), inplace=True)\n"
      ],
      "execution_count": 29,
      "outputs": []
    },
    {
      "cell_type": "markdown",
      "metadata": {
        "id": "h14_PtGlF_TE"
      },
      "source": [
        "# FEATURE ENGINEERING"
      ]
    },
    {
      "cell_type": "markdown",
      "metadata": {
        "id": "358y-zwxLbjq"
      },
      "source": [
        "## Split Data"
      ]
    },
    {
      "cell_type": "code",
      "metadata": {
        "id": "SonC2F69qfUM"
      },
      "source": [
        "from sklearn.model_selection import train_test_split, RandomizedSearchCV, StratifiedKFold"
      ],
      "execution_count": 30,
      "outputs": []
    },
    {
      "cell_type": "code",
      "metadata": {
        "id": "MpsKo4RRrnk7"
      },
      "source": [
        "X = df_1.drop(['Exited','HasCrCard'], axis=1)\n",
        "y = df_1['Exited']"
      ],
      "execution_count": 40,
      "outputs": []
    },
    {
      "cell_type": "code",
      "metadata": {
        "colab": {
          "base_uri": "https://localhost:8080/",
          "height": 108
        },
        "id": "9APJRjcAubTV",
        "outputId": "4dcb3477-ea0c-4576-d9ad-c93bddb4fc3f"
      },
      "source": [
        "X.head(2)"
      ],
      "execution_count": 41,
      "outputs": [
        {
          "output_type": "execute_result",
          "data": {
            "text/html": [
              "<div>\n",
              "<style scoped>\n",
              "    .dataframe tbody tr th:only-of-type {\n",
              "        vertical-align: middle;\n",
              "    }\n",
              "\n",
              "    .dataframe tbody tr th {\n",
              "        vertical-align: top;\n",
              "    }\n",
              "\n",
              "    .dataframe thead th {\n",
              "        text-align: right;\n",
              "    }\n",
              "</style>\n",
              "<table border=\"1\" class=\"dataframe\">\n",
              "  <thead>\n",
              "    <tr style=\"text-align: right;\">\n",
              "      <th></th>\n",
              "      <th>CreditScore</th>\n",
              "      <th>Age</th>\n",
              "      <th>Tenure</th>\n",
              "      <th>Balance</th>\n",
              "      <th>NumOfProducts</th>\n",
              "      <th>IsActiveMember</th>\n",
              "      <th>EstimatedSalary</th>\n",
              "      <th>(mean, Age)</th>\n",
              "      <th>(mean, Balance)</th>\n",
              "      <th>Gender_Male</th>\n",
              "    </tr>\n",
              "  </thead>\n",
              "  <tbody>\n",
              "    <tr>\n",
              "      <th>0</th>\n",
              "      <td>619.0</td>\n",
              "      <td>42</td>\n",
              "      <td>2</td>\n",
              "      <td>0.00</td>\n",
              "      <td>1</td>\n",
              "      <td>1</td>\n",
              "      <td>101348.88</td>\n",
              "      <td>38.511767</td>\n",
              "      <td>62092.636516</td>\n",
              "      <td>0</td>\n",
              "    </tr>\n",
              "    <tr>\n",
              "      <th>1</th>\n",
              "      <td>608.0</td>\n",
              "      <td>41</td>\n",
              "      <td>1</td>\n",
              "      <td>83807.86</td>\n",
              "      <td>1</td>\n",
              "      <td>1</td>\n",
              "      <td>112542.58</td>\n",
              "      <td>38.890997</td>\n",
              "      <td>61818.147763</td>\n",
              "      <td>0</td>\n",
              "    </tr>\n",
              "  </tbody>\n",
              "</table>\n",
              "</div>"
            ],
            "text/plain": [
              "   CreditScore  Age  Tenure  ...  (mean, Age)  (mean, Balance)  Gender_Male\n",
              "0        619.0   42       2  ...    38.511767     62092.636516            0\n",
              "1        608.0   41       1  ...    38.890997     61818.147763            0\n",
              "\n",
              "[2 rows x 10 columns]"
            ]
          },
          "metadata": {},
          "execution_count": 41
        }
      ]
    },
    {
      "cell_type": "code",
      "metadata": {
        "colab": {
          "base_uri": "https://localhost:8080/"
        },
        "id": "_Mcg5KKOuexS",
        "outputId": "9d467b28-4142-47be-bbae-3707a87acf43"
      },
      "source": [
        "y.tail(2)"
      ],
      "execution_count": 42,
      "outputs": [
        {
          "output_type": "execute_result",
          "data": {
            "text/plain": [
              "9998    1\n",
              "9999    0\n",
              "Name: Exited, dtype: int64"
            ]
          },
          "metadata": {},
          "execution_count": 42
        }
      ]
    },
    {
      "cell_type": "code",
      "metadata": {
        "id": "8ajP0C2xrhrt"
      },
      "source": [
        "X_train, X_test, y_train, y_test = train_test_split(X, y, test_size=0.2, random_state=50, stratify= y)"
      ],
      "execution_count": 43,
      "outputs": []
    },
    {
      "cell_type": "markdown",
      "metadata": {
        "id": "VH9GauD2LWZ6"
      },
      "source": [
        "## Imbalance DataSet"
      ]
    },
    {
      "cell_type": "code",
      "metadata": {
        "colab": {
          "base_uri": "https://localhost:8080/"
        },
        "id": "DWUXYYG0xZko",
        "outputId": "b5722672-a36a-4b1c-ac93-8c158519ff09"
      },
      "source": [
        "from imblearn.under_sampling import RandomUnderSampler\n",
        "undersampling = RandomUnderSampler(sampling_strategy=0.5)\n",
        "X_train, y_train = undersampling.fit_resample(X_train,y_train)"
      ],
      "execution_count": 44,
      "outputs": [
        {
          "output_type": "stream",
          "name": "stderr",
          "text": [
            "/usr/local/lib/python3.7/dist-packages/sklearn/utils/deprecation.py:87: FutureWarning: Function safe_indexing is deprecated; safe_indexing is deprecated in version 0.22 and will be removed in version 0.24.\n",
            "  warnings.warn(msg, category=FutureWarning)\n"
          ]
        }
      ]
    },
    {
      "cell_type": "code",
      "metadata": {
        "colab": {
          "base_uri": "https://localhost:8080/"
        },
        "id": "nt4KJPu0rMtA",
        "outputId": "4e983264-2f72-4a9d-ce4c-e68ffc503d59"
      },
      "source": [
        "from imblearn.over_sampling import SMOTE\n",
        "smote = SMOTE(sampling_strategy = 0.8)\n",
        "X_train, y_train = smote.fit_resample(X_train,y_train)"
      ],
      "execution_count": 45,
      "outputs": [
        {
          "output_type": "stream",
          "name": "stderr",
          "text": [
            "/usr/local/lib/python3.7/dist-packages/sklearn/utils/deprecation.py:87: FutureWarning: Function safe_indexing is deprecated; safe_indexing is deprecated in version 0.22 and will be removed in version 0.24.\n",
            "  warnings.warn(msg, category=FutureWarning)\n"
          ]
        }
      ]
    },
    {
      "cell_type": "code",
      "metadata": {
        "colab": {
          "base_uri": "https://localhost:8080/",
          "height": 51
        },
        "id": "7Zd9FM5_NNNn",
        "outputId": "6516801d-f016-44e9-d49f-f079c2992f7a"
      },
      "source": [
        "'''from imblearn.over_sampling import RandomOverSampler\n",
        "oversampling = RandomOverSampler(sampling_strategy=0.5)\n",
        "X_over, y_over = oversampling.fit_resample(X_train,y_train)'''"
      ],
      "execution_count": 37,
      "outputs": [
        {
          "output_type": "execute_result",
          "data": {
            "application/vnd.google.colaboratory.intrinsic+json": {
              "type": "string"
            },
            "text/plain": [
              "'from imblearn.over_sampling import RandomOverSampler\\noversampling = RandomOverSampler(sampling_strategy=0.5)\\nX_over, y_over = oversampling.fit_resample(X_train,y_train)'"
            ]
          },
          "metadata": {},
          "execution_count": 37
        }
      ]
    },
    {
      "cell_type": "markdown",
      "metadata": {
        "id": "fEpDd1QYLNhd"
      },
      "source": [
        "## Scaling Data"
      ]
    },
    {
      "cell_type": "code",
      "metadata": {
        "id": "wnWlGHWDs8lv"
      },
      "source": [
        "from sklearn.preprocessing import StandardScaler , MinMaxScaler"
      ],
      "execution_count": 46,
      "outputs": []
    },
    {
      "cell_type": "code",
      "metadata": {
        "id": "fxxmJowZs5tr"
      },
      "source": [
        "scaler = StandardScaler()\n",
        "minmax = MinMaxScaler()\n",
        "X_train = scaler.fit_transform(X_train)\n",
        "X_test = scaler.transform(X_test)\n",
        "\n",
        "X_train = pd.DataFrame(X_train, columns=X.columns)\n",
        "X_test = pd.DataFrame(X_test, columns=X.columns)"
      ],
      "execution_count": 47,
      "outputs": []
    },
    {
      "cell_type": "markdown",
      "metadata": {
        "id": "musuKLFKGX0E"
      },
      "source": [
        "# MODELLING"
      ]
    },
    {
      "cell_type": "code",
      "metadata": {
        "id": "0pHC3GZZugu-"
      },
      "source": [
        "from sklearn.neighbors import KNeighborsClassifier\n",
        "from sklearn.tree import DecisionTreeClassifier\n",
        "from sklearn.ensemble import RandomForestClassifier\n",
        "from sklearn.metrics import confusion_matrix"
      ],
      "execution_count": 64,
      "outputs": []
    },
    {
      "cell_type": "code",
      "metadata": {
        "id": "0bZbOxjPufVR"
      },
      "source": [
        "def classification_eval (aktual, prediksi, name):\n",
        "    cm = confusion_matrix(aktual, prediksi)\n",
        "    tp = cm[1][1]\n",
        "    tn = cm[0][0]\n",
        "    fp = cm[0][1]\n",
        "    fn = cm[1][0]\n",
        "    \n",
        "    accuracy = round((tp+tn) / (tp+tn+fp+fn) * 100, 2)\n",
        "    precision = round((tp) / (tp+fp) * 100, 2)\n",
        "    recall = round((tp) / (tp+fn) * 100, 2)\n",
        "    specificity = round((tn) / (tn+fp) * 100, 2)\n",
        "    npv = round((tn) / (tn+fn) * 100, 2)\n",
        "    fscore = round((2 * precision * recall)/ (precision + recall),2)\n",
        "    \n",
        "    print('Evaluation Model:', name)\n",
        "    print(cm)\n",
        "    print('Accuracy   :', accuracy, '%')\n",
        "    print('Precision  :', precision, '%')\n",
        "    print('Recall     :', recall, '%')\n",
        "    print('Specificity:', specificity, '%')\n",
        "    print('NPV        :', npv, '%')\n",
        "    print('F-Score    :', fscore, '%')"
      ],
      "execution_count": 65,
      "outputs": []
    },
    {
      "cell_type": "markdown",
      "metadata": {
        "id": "pBW5NKe1HzAU"
      },
      "source": [
        "## KNN"
      ]
    },
    {
      "cell_type": "code",
      "metadata": {
        "colab": {
          "base_uri": "https://localhost:8080/"
        },
        "id": "a2h1ucN8uowq",
        "outputId": "5712a049-7f16-4b7f-db71-8a99baf35fc0"
      },
      "source": [
        "knn = KNeighborsClassifier(n_neighbors=9)\n",
        "knn.fit(X_train, y_train)"
      ],
      "execution_count": 66,
      "outputs": [
        {
          "output_type": "execute_result",
          "data": {
            "text/plain": [
              "KNeighborsClassifier(algorithm='auto', leaf_size=30, metric='minkowski',\n",
              "                     metric_params=None, n_jobs=None, n_neighbors=9, p=2,\n",
              "                     weights='uniform')"
            ]
          },
          "metadata": {},
          "execution_count": 66
        }
      ]
    },
    {
      "cell_type": "code",
      "metadata": {
        "id": "qQywvI6EuwDU"
      },
      "source": [
        "y_train_pred = knn.predict(X_train)\n",
        "y_test_pred = knn.predict(X_test)"
      ],
      "execution_count": 67,
      "outputs": []
    },
    {
      "cell_type": "code",
      "metadata": {
        "colab": {
          "base_uri": "https://localhost:8080/"
        },
        "id": "w6HE581yuzmd",
        "outputId": "4aeca44a-8366-43e4-e693-139405fb07d3"
      },
      "source": [
        "classification_eval(y_train, y_train_pred, 'KNN Training Perf.')"
      ],
      "execution_count": 68,
      "outputs": [
        {
          "output_type": "stream",
          "name": "stdout",
          "text": [
            "Evaluation Model: KNN Training Perf.\n",
            "[[2829  431]\n",
            " [ 601 2007]]\n",
            "Accuracy   : 82.41 %\n",
            "Precision  : 82.32 %\n",
            "Recall     : 76.96 %\n",
            "Specificity: 86.78 %\n",
            "NPV        : 82.48 %\n",
            "F-Score    : 79.55 %\n"
          ]
        }
      ]
    },
    {
      "cell_type": "code",
      "metadata": {
        "colab": {
          "base_uri": "https://localhost:8080/"
        },
        "id": "gjXQqDPhu5rr",
        "outputId": "de75eae1-daf5-4b9c-bcc4-9f7ee3d11240"
      },
      "source": [
        "classification_eval(y_test, y_test_pred, 'KNN Testing Perf.')"
      ],
      "execution_count": 69,
      "outputs": [
        {
          "output_type": "stream",
          "name": "stdout",
          "text": [
            "Evaluation Model: KNN Testing Perf.\n",
            "[[1323  270]\n",
            " [ 148  259]]\n",
            "Accuracy   : 79.1 %\n",
            "Precision  : 48.96 %\n",
            "Recall     : 63.64 %\n",
            "Specificity: 83.05 %\n",
            "NPV        : 89.94 %\n",
            "F-Score    : 55.34 %\n"
          ]
        }
      ]
    },
    {
      "cell_type": "markdown",
      "metadata": {
        "id": "KgfVBs_wUwWi"
      },
      "source": [
        "## Random Forest"
      ]
    },
    {
      "cell_type": "code",
      "metadata": {
        "colab": {
          "base_uri": "https://localhost:8080/"
        },
        "id": "juTiGlduvSv1",
        "outputId": "a9eb9bb7-8702-45b9-9c7d-27a7798ebc00"
      },
      "source": [
        "ranfor = RandomForestClassifier(max_depth=5)\n",
        "ranfor.fit(X_train, y_train)"
      ],
      "execution_count": 70,
      "outputs": [
        {
          "output_type": "execute_result",
          "data": {
            "text/plain": [
              "RandomForestClassifier(bootstrap=True, ccp_alpha=0.0, class_weight=None,\n",
              "                       criterion='gini', max_depth=5, max_features='auto',\n",
              "                       max_leaf_nodes=None, max_samples=None,\n",
              "                       min_impurity_decrease=0.0, min_impurity_split=None,\n",
              "                       min_samples_leaf=1, min_samples_split=2,\n",
              "                       min_weight_fraction_leaf=0.0, n_estimators=100,\n",
              "                       n_jobs=None, oob_score=False, random_state=None,\n",
              "                       verbose=0, warm_start=False)"
            ]
          },
          "metadata": {},
          "execution_count": 70
        }
      ]
    },
    {
      "cell_type": "code",
      "metadata": {
        "id": "OZz43fmUvW63"
      },
      "source": [
        "y_train_pred = ranfor.predict(X_train)\n",
        "y_test_pred = ranfor.predict(X_test)"
      ],
      "execution_count": 71,
      "outputs": []
    },
    {
      "cell_type": "code",
      "metadata": {
        "colab": {
          "base_uri": "https://localhost:8080/"
        },
        "id": "eyOSQcMEvcGl",
        "outputId": "8f8e512d-85a2-447e-9f14-47d54612abac"
      },
      "source": [
        "classification_eval(y_train, y_train_pred, 'Ranfor Training Perf.')"
      ],
      "execution_count": 72,
      "outputs": [
        {
          "output_type": "stream",
          "name": "stdout",
          "text": [
            "Evaluation Model: Ranfor Training Perf.\n",
            "[[2960  300]\n",
            " [ 678 1930]]\n",
            "Accuracy   : 83.33 %\n",
            "Precision  : 86.55 %\n",
            "Recall     : 74.0 %\n",
            "Specificity: 90.8 %\n",
            "NPV        : 81.36 %\n",
            "F-Score    : 79.78 %\n"
          ]
        }
      ]
    },
    {
      "cell_type": "code",
      "metadata": {
        "colab": {
          "base_uri": "https://localhost:8080/"
        },
        "id": "NjfG39ODveip",
        "outputId": "cdf0930c-5a7c-4fe6-d86e-8c2eaffde678"
      },
      "source": [
        "classification_eval(y_test, y_test_pred, 'Ranfor Testing Perf.')"
      ],
      "execution_count": 73,
      "outputs": [
        {
          "output_type": "stream",
          "name": "stdout",
          "text": [
            "Evaluation Model: Ranfor Testing Perf.\n",
            "[[1432  161]\n",
            " [ 157  250]]\n",
            "Accuracy   : 84.1 %\n",
            "Precision  : 60.83 %\n",
            "Recall     : 61.43 %\n",
            "Specificity: 89.89 %\n",
            "NPV        : 90.12 %\n",
            "F-Score    : 61.13 %\n"
          ]
        }
      ]
    },
    {
      "cell_type": "markdown",
      "metadata": {
        "id": "vRAgKUVQU2nN"
      },
      "source": [
        "##Decision Tree"
      ]
    },
    {
      "cell_type": "code",
      "metadata": {
        "colab": {
          "base_uri": "https://localhost:8080/"
        },
        "id": "qC_MvAY-vsBS",
        "outputId": "a49c053d-f7a9-4934-fd92-4eda0453643c"
      },
      "source": [
        "dectree = DecisionTreeClassifier(max_depth=6)\n",
        "dectree.fit(X_train, y_train)"
      ],
      "execution_count": 74,
      "outputs": [
        {
          "output_type": "execute_result",
          "data": {
            "text/plain": [
              "DecisionTreeClassifier(ccp_alpha=0.0, class_weight=None, criterion='gini',\n",
              "                       max_depth=6, max_features=None, max_leaf_nodes=None,\n",
              "                       min_impurity_decrease=0.0, min_impurity_split=None,\n",
              "                       min_samples_leaf=1, min_samples_split=2,\n",
              "                       min_weight_fraction_leaf=0.0, presort='deprecated',\n",
              "                       random_state=None, splitter='best')"
            ]
          },
          "metadata": {},
          "execution_count": 74
        }
      ]
    },
    {
      "cell_type": "code",
      "metadata": {
        "id": "snB0H0dpvtV6"
      },
      "source": [
        "y_train_pred = dectree.predict(X_train)\n",
        "y_test_pred = dectree.predict(X_test)"
      ],
      "execution_count": 75,
      "outputs": []
    },
    {
      "cell_type": "code",
      "metadata": {
        "colab": {
          "base_uri": "https://localhost:8080/"
        },
        "id": "RJessMUyvvZ9",
        "outputId": "674ad9b2-3a42-4ad5-dbd3-fcb4195e67e9"
      },
      "source": [
        "classification_eval(y_train, y_train_pred, 'Dectree Training Perf.')"
      ],
      "execution_count": 76,
      "outputs": [
        {
          "output_type": "stream",
          "name": "stdout",
          "text": [
            "Evaluation Model: Dectree Training Perf.\n",
            "[[2838  422]\n",
            " [ 680 1928]]\n",
            "Accuracy   : 81.22 %\n",
            "Precision  : 82.04 %\n",
            "Recall     : 73.93 %\n",
            "Specificity: 87.06 %\n",
            "NPV        : 80.67 %\n",
            "F-Score    : 77.77 %\n"
          ]
        }
      ]
    },
    {
      "cell_type": "code",
      "metadata": {
        "colab": {
          "base_uri": "https://localhost:8080/"
        },
        "id": "i4nFBAtGvy4u",
        "outputId": "c2c2d2bb-bcc5-4c82-9573-18364dbe9e2c"
      },
      "source": [
        "# Testing Performance\n",
        "classification_eval(y_test, y_test_pred, 'Dectree Testing Perf.')"
      ],
      "execution_count": 77,
      "outputs": [
        {
          "output_type": "stream",
          "name": "stdout",
          "text": [
            "Evaluation Model: Dectree Testing Perf.\n",
            "[[1359  234]\n",
            " [ 151  256]]\n",
            "Accuracy   : 80.75 %\n",
            "Precision  : 52.24 %\n",
            "Recall     : 62.9 %\n",
            "Specificity: 85.31 %\n",
            "NPV        : 90.0 %\n",
            "F-Score    : 57.08 %\n"
          ]
        }
      ]
    },
    {
      "cell_type": "markdown",
      "metadata": {
        "id": "dWfF6yUSIsLI"
      },
      "source": [
        "## XG BOOST"
      ]
    },
    {
      "cell_type": "code",
      "metadata": {
        "id": "03UBy_fVrYPf"
      },
      "source": [
        "import xgboost as xgb"
      ],
      "execution_count": 78,
      "outputs": []
    },
    {
      "cell_type": "code",
      "metadata": {
        "colab": {
          "base_uri": "https://localhost:8080/"
        },
        "id": "k6SzAVXXt788",
        "outputId": "60eab998-6b2c-4b57-dcee-fc8393a44a3d"
      },
      "source": [
        "clf = xgb.XGBClassifier()\n",
        "clf.fit(X_train, y_train)\n",
        "y_pred_tr = clf.predict(X_train)\n",
        "y_pred = clf.predict(X_test)\n",
        "classification_eval(y_train, y_pred_tr, 'XGboost train')\n",
        "classification_eval(y_test, y_pred, 'XGboost')"
      ],
      "execution_count": 79,
      "outputs": [
        {
          "output_type": "stream",
          "name": "stdout",
          "text": [
            "Evaluation Model: XGboost train\n",
            "[[2975  285]\n",
            " [ 614 1994]]\n",
            "Accuracy   : 84.68 %\n",
            "Precision  : 87.49 %\n",
            "Recall     : 76.46 %\n",
            "Specificity: 91.26 %\n",
            "NPV        : 82.89 %\n",
            "F-Score    : 81.6 %\n",
            "Evaluation Model: XGboost\n",
            "[[1432  161]\n",
            " [ 155  252]]\n",
            "Accuracy   : 84.2 %\n",
            "Precision  : 61.02 %\n",
            "Recall     : 61.92 %\n",
            "Specificity: 89.89 %\n",
            "NPV        : 90.23 %\n",
            "F-Score    : 61.47 %\n"
          ]
        }
      ]
    },
    {
      "cell_type": "markdown",
      "metadata": {
        "id": "bGN8wnwzN2w3"
      },
      "source": [
        "# EVALUATION MODEL"
      ]
    },
    {
      "cell_type": "markdown",
      "metadata": {
        "id": "efLX1D4VLjXF"
      },
      "source": [
        "## Cross Validation"
      ]
    },
    {
      "cell_type": "code",
      "metadata": {
        "colab": {
          "base_uri": "https://localhost:8080/"
        },
        "id": "GzngziVhN6lm",
        "outputId": "15dbe30b-6aa6-49f3-c611-2333158e9e29"
      },
      "source": [
        "# Stratified 10-Fold CV\n",
        "skfold = StratifiedKFold(n_splits = 5, shuffle = True, random_state = 123)\n",
        "\n",
        "i = 0\n",
        "for train_idx, test_idx in skfold.split(X, y):\n",
        "    print('Fold number: ', i)\n",
        "    \n",
        "    X_train_fold, X_test_fold = X.iloc[train_idx], X.iloc[test_idx]\n",
        "    y_train_fold, y_test_fold = y.iloc[train_idx], y.iloc[test_idx]\n",
        "    \n",
        "    print('Proportional class distribution in train data:\\n', y_train_fold.value_counts() / y_train_fold.count(), '\\n')\n",
        "    print('Proportional class distribution in test data:\\n', y_test_fold.value_counts() / y_test_fold.count(), '\\n\\n')\n",
        "    \n",
        "    i += 1"
      ],
      "execution_count": 80,
      "outputs": [
        {
          "output_type": "stream",
          "name": "stdout",
          "text": [
            "Fold number:  0\n",
            "Proportional class distribution in train data:\n",
            " 0    0.796375\n",
            "1    0.203625\n",
            "Name: Exited, dtype: float64 \n",
            "\n",
            "Proportional class distribution in test data:\n",
            " 0    0.796\n",
            "1    0.204\n",
            "Name: Exited, dtype: float64 \n",
            "\n",
            "\n",
            "Fold number:  1\n",
            "Proportional class distribution in train data:\n",
            " 0    0.796375\n",
            "1    0.203625\n",
            "Name: Exited, dtype: float64 \n",
            "\n",
            "Proportional class distribution in test data:\n",
            " 0    0.796\n",
            "1    0.204\n",
            "Name: Exited, dtype: float64 \n",
            "\n",
            "\n",
            "Fold number:  2\n",
            "Proportional class distribution in train data:\n",
            " 0    0.79625\n",
            "1    0.20375\n",
            "Name: Exited, dtype: float64 \n",
            "\n",
            "Proportional class distribution in test data:\n",
            " 0    0.7965\n",
            "1    0.2035\n",
            "Name: Exited, dtype: float64 \n",
            "\n",
            "\n",
            "Fold number:  3\n",
            "Proportional class distribution in train data:\n",
            " 0    0.79625\n",
            "1    0.20375\n",
            "Name: Exited, dtype: float64 \n",
            "\n",
            "Proportional class distribution in test data:\n",
            " 0    0.7965\n",
            "1    0.2035\n",
            "Name: Exited, dtype: float64 \n",
            "\n",
            "\n",
            "Fold number:  4\n",
            "Proportional class distribution in train data:\n",
            " 0    0.79625\n",
            "1    0.20375\n",
            "Name: Exited, dtype: float64 \n",
            "\n",
            "Proportional class distribution in test data:\n",
            " 0    0.7965\n",
            "1    0.2035\n",
            "Name: Exited, dtype: float64 \n",
            "\n",
            "\n"
          ]
        }
      ]
    },
    {
      "cell_type": "markdown",
      "metadata": {
        "id": "r0dk6hsDv7IR"
      },
      "source": [
        "## Hyperparameter Tunning"
      ]
    },
    {
      "cell_type": "markdown",
      "metadata": {
        "id": "WSsfMtC1daOd"
      },
      "source": [
        "#### Randomized Serach KNN"
      ]
    },
    {
      "cell_type": "code",
      "metadata": {
        "id": "U-C3m3APvVAf"
      },
      "source": [
        "from sklearn.model_selection import RandomizedSearchCV\n"
      ],
      "execution_count": 81,
      "outputs": []
    },
    {
      "cell_type": "code",
      "metadata": {
        "id": "mbdjxAiGdn-U"
      },
      "source": [
        "n_neighbors = [int(x) for x in np.linspace(start = 1, stop = 15, num = 5)]"
      ],
      "execution_count": 82,
      "outputs": []
    },
    {
      "cell_type": "code",
      "metadata": {
        "id": "YJwL6NW0eWZg"
      },
      "source": [
        "weights = ['uniform', 'distance']"
      ],
      "execution_count": 83,
      "outputs": []
    },
    {
      "cell_type": "code",
      "metadata": {
        "id": "y8yGuMKhfqH6"
      },
      "source": [
        "algorithm = ['auto', 'ball_tree', 'kd_tree', 'brute']"
      ],
      "execution_count": 84,
      "outputs": []
    },
    {
      "cell_type": "code",
      "metadata": {
        "id": "HWf4GrsagBxZ"
      },
      "source": [
        "p = [1,2]"
      ],
      "execution_count": 85,
      "outputs": []
    },
    {
      "cell_type": "code",
      "metadata": {
        "id": "UU89TTSagTgL"
      },
      "source": [
        "random_grid = {'n_neighbors': n_neighbors,\n",
        "               'weights': weights,\n",
        "               'algorithm': algorithm,\n",
        "               'p': p}"
      ],
      "execution_count": 87,
      "outputs": []
    },
    {
      "cell_type": "code",
      "metadata": {
        "colab": {
          "base_uri": "https://localhost:8080/"
        },
        "id": "drX02gMjhVJX",
        "outputId": "f4f5c768-39c7-40ed-9284-fe7ee1d3b97e"
      },
      "source": [
        "random_grid"
      ],
      "execution_count": 88,
      "outputs": [
        {
          "output_type": "execute_result",
          "data": {
            "text/plain": [
              "{'algorithm': ['auto', 'ball_tree', 'kd_tree', 'brute'],\n",
              " 'n_neighbors': [1, 4, 8, 11, 15],\n",
              " 'p': [1, 2],\n",
              " 'weights': ['uniform', 'distance']}"
            ]
          },
          "metadata": {},
          "execution_count": 88
        }
      ]
    },
    {
      "cell_type": "code",
      "metadata": {
        "id": "nKzQZH2-hZK7"
      },
      "source": [
        "knn_random = RandomizedSearchCV(estimator= knn, param_distributions= random_grid, n_iter=10, cv= 5,random_state= 12, n_jobs=-1, scoring='f1') "
      ],
      "execution_count": 89,
      "outputs": []
    },
    {
      "cell_type": "code",
      "metadata": {
        "colab": {
          "base_uri": "https://localhost:8080/"
        },
        "id": "GtXEb0OjjNkR",
        "outputId": "fa57a698-d71c-464c-c0e5-5b57d8e59de5"
      },
      "source": [
        "knn_random.fit(X_train,y_train)"
      ],
      "execution_count": 90,
      "outputs": [
        {
          "output_type": "execute_result",
          "data": {
            "text/plain": [
              "RandomizedSearchCV(cv=5, error_score=nan,\n",
              "                   estimator=KNeighborsClassifier(algorithm='auto',\n",
              "                                                  leaf_size=30,\n",
              "                                                  metric='minkowski',\n",
              "                                                  metric_params=None,\n",
              "                                                  n_jobs=None, n_neighbors=9,\n",
              "                                                  p=2, weights='uniform'),\n",
              "                   iid='deprecated', n_iter=10, n_jobs=-1,\n",
              "                   param_distributions={'algorithm': ['auto', 'ball_tree',\n",
              "                                                      'kd_tree', 'brute'],\n",
              "                                        'n_neighbors': [1, 4, 8, 11, 15],\n",
              "                                        'p': [1, 2],\n",
              "                                        'weights': ['uniform', 'distance']},\n",
              "                   pre_dispatch='2*n_jobs', random_state=12, refit=True,\n",
              "                   return_train_score=False, scoring='f1', verbose=0)"
            ]
          },
          "metadata": {},
          "execution_count": 90
        }
      ]
    },
    {
      "cell_type": "code",
      "metadata": {
        "colab": {
          "base_uri": "https://localhost:8080/"
        },
        "id": "K8pRHdE5jgjE",
        "outputId": "4a993836-e27d-425c-8dbc-8898f2e04715"
      },
      "source": [
        "cvknn = knn_random.cv_results_\n",
        "for mean_score, params in zip(cvknn[\"mean_test_score\"], cvknn[\"params\"]):\n",
        "    print(np.round(mean_score, 2), params)"
      ],
      "execution_count": 91,
      "outputs": [
        {
          "output_type": "stream",
          "name": "stdout",
          "text": [
            "0.72 {'weights': 'uniform', 'p': 1, 'n_neighbors': 15, 'algorithm': 'kd_tree'}\n",
            "0.72 {'weights': 'uniform', 'p': 1, 'n_neighbors': 11, 'algorithm': 'auto'}\n",
            "0.73 {'weights': 'uniform', 'p': 2, 'n_neighbors': 11, 'algorithm': 'auto'}\n",
            "0.75 {'weights': 'distance', 'p': 2, 'n_neighbors': 4, 'algorithm': 'auto'}\n",
            "0.75 {'weights': 'uniform', 'p': 2, 'n_neighbors': 1, 'algorithm': 'kd_tree'}\n",
            "0.75 {'weights': 'distance', 'p': 1, 'n_neighbors': 1, 'algorithm': 'kd_tree'}\n",
            "0.69 {'weights': 'uniform', 'p': 1, 'n_neighbors': 8, 'algorithm': 'auto'}\n",
            "0.73 {'weights': 'uniform', 'p': 2, 'n_neighbors': 11, 'algorithm': 'brute'}\n",
            "0.75 {'weights': 'distance', 'p': 1, 'n_neighbors': 8, 'algorithm': 'ball_tree'}\n",
            "0.75 {'weights': 'distance', 'p': 1, 'n_neighbors': 15, 'algorithm': 'auto'}\n"
          ]
        }
      ]
    },
    {
      "cell_type": "code",
      "metadata": {
        "colab": {
          "base_uri": "https://localhost:8080/"
        },
        "id": "i2g-HA2RkUyZ",
        "outputId": "ec3913c7-48cf-42aa-f403-e1b57ef2429b"
      },
      "source": [
        "knn_random.best_params_"
      ],
      "execution_count": 92,
      "outputs": [
        {
          "output_type": "execute_result",
          "data": {
            "text/plain": [
              "{'algorithm': 'auto', 'n_neighbors': 4, 'p': 2, 'weights': 'distance'}"
            ]
          },
          "metadata": {},
          "execution_count": 92
        }
      ]
    },
    {
      "cell_type": "code",
      "metadata": {
        "colab": {
          "base_uri": "https://localhost:8080/"
        },
        "id": "EvG-EBE1keP_",
        "outputId": "81cc0add-1d72-4c70-f794-a6752314541f"
      },
      "source": [
        "rs_knn = knn_random.best_estimator_\n",
        "y_pred = rs_knn.predict(X_test)\n",
        "classification_eval(y_test,y_pred,'Knn best param')"
      ],
      "execution_count": 93,
      "outputs": [
        {
          "output_type": "stream",
          "name": "stdout",
          "text": [
            "Evaluation Model: Knn best param\n",
            "[[1306  287]\n",
            " [ 158  249]]\n",
            "Accuracy   : 77.75 %\n",
            "Precision  : 46.46 %\n",
            "Recall     : 61.18 %\n",
            "Specificity: 81.98 %\n",
            "NPV        : 89.21 %\n",
            "F-Score    : 52.81 %\n"
          ]
        }
      ]
    },
    {
      "cell_type": "markdown",
      "metadata": {
        "id": "_NQxxvGrs6_4"
      },
      "source": [
        "## Permutation Feature Importance\n"
      ]
    },
    {
      "cell_type": "code",
      "metadata": {
        "colab": {
          "base_uri": "https://localhost:8080/"
        },
        "id": "8Gt9PtrctFYX",
        "outputId": "cb8c755f-1414-4ad0-e1a0-072f0ce34c8c"
      },
      "source": [
        "!pip install eli5"
      ],
      "execution_count": 94,
      "outputs": [
        {
          "output_type": "stream",
          "name": "stdout",
          "text": [
            "Collecting eli5\n",
            "  Downloading eli5-0.11.0-py2.py3-none-any.whl (106 kB)\n",
            "\u001b[?25l\r\u001b[K     |███                             | 10 kB 22.7 MB/s eta 0:00:01\r\u001b[K     |██████▏                         | 20 kB 26.1 MB/s eta 0:00:01\r\u001b[K     |█████████▎                      | 30 kB 28.5 MB/s eta 0:00:01\r\u001b[K     |████████████▍                   | 40 kB 23.1 MB/s eta 0:00:01\r\u001b[K     |███████████████▌                | 51 kB 12.4 MB/s eta 0:00:01\r\u001b[K     |██████████████████▌             | 61 kB 13.5 MB/s eta 0:00:01\r\u001b[K     |█████████████████████▋          | 71 kB 9.3 MB/s eta 0:00:01\r\u001b[K     |████████████████████████▊       | 81 kB 10.3 MB/s eta 0:00:01\r\u001b[K     |███████████████████████████▉    | 92 kB 11.3 MB/s eta 0:00:01\r\u001b[K     |███████████████████████████████ | 102 kB 9.9 MB/s eta 0:00:01\r\u001b[K     |████████████████████████████████| 106 kB 9.9 MB/s \n",
            "\u001b[?25hRequirement already satisfied: tabulate>=0.7.7 in /usr/local/lib/python3.7/dist-packages (from eli5) (0.8.9)\n",
            "Requirement already satisfied: attrs>16.0.0 in /usr/local/lib/python3.7/dist-packages (from eli5) (21.2.0)\n",
            "Requirement already satisfied: graphviz in /usr/local/lib/python3.7/dist-packages (from eli5) (0.10.1)\n",
            "Requirement already satisfied: six in /usr/local/lib/python3.7/dist-packages (from eli5) (1.15.0)\n",
            "Requirement already satisfied: scipy in /usr/local/lib/python3.7/dist-packages (from eli5) (1.4.1)\n",
            "Requirement already satisfied: scikit-learn>=0.20 in /usr/local/lib/python3.7/dist-packages (from eli5) (0.22.2.post1)\n",
            "Requirement already satisfied: jinja2 in /usr/local/lib/python3.7/dist-packages (from eli5) (2.11.3)\n",
            "Requirement already satisfied: numpy>=1.9.0 in /usr/local/lib/python3.7/dist-packages (from eli5) (1.19.5)\n",
            "Requirement already satisfied: joblib>=0.11 in /usr/local/lib/python3.7/dist-packages (from scikit-learn>=0.20->eli5) (1.0.1)\n",
            "Requirement already satisfied: MarkupSafe>=0.23 in /usr/local/lib/python3.7/dist-packages (from jinja2->eli5) (2.0.1)\n",
            "Installing collected packages: eli5\n",
            "Successfully installed eli5-0.11.0\n"
          ]
        }
      ]
    },
    {
      "cell_type": "code",
      "metadata": {
        "colab": {
          "base_uri": "https://localhost:8080/",
          "height": 281
        },
        "id": "9dsU-I00tNk3",
        "outputId": "5023679a-a15b-42fd-a153-75eb6fc4a190"
      },
      "source": [
        "import eli5\n",
        "from eli5.sklearn import PermutationImportance\n",
        "\n",
        "perm = PermutationImportance(estimator=knn,scoring='r2', n_iter=5, random_state=27)\n",
        "perm.fit (X_test, y_test)\n",
        "columns= X_test.columns.to_list()\n",
        "feature_importance = perm.feature_importances_\n",
        "fimportance = pd.Series(feature_importance, columns).sort_values(ascending=False)\n",
        "\n",
        "fimportance.sort_values(ascending=True).plot(kind='barh')\n",
        "plt.title('Feature Importances')\n",
        "plt.show()"
      ],
      "execution_count": 96,
      "outputs": [
        {
          "output_type": "display_data",
          "data": {
            "image/png": "[encoded data removed]",
            "text/plain": [
              "<Figure size 432x288 with 1 Axes>"
            ]
          },
          "metadata": {
            "needs_background": "light"
          }
        }
      ]
    }
  ]
}